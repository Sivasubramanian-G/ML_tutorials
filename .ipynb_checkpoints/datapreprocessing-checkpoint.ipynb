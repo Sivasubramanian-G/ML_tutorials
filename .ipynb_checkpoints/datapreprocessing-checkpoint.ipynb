{
 "cells": [
  {
   "cell_type": "markdown",
   "metadata": {},
   "source": [
    "# Data Preprocessing"
   ]
  },
  {
   "cell_type": "markdown",
   "metadata": {},
   "source": [
    "### Importing Libraries"
   ]
  },
  {
   "cell_type": "code",
   "execution_count": 1,
   "metadata": {},
   "outputs": [],
   "source": [
    "import numpy as np\n",
    "import matplotlib.pyplot as plt\n",
    "import pandas as pd\n",
    "from sklearn.preprocessing import Imputer, LabelEncoder, OneHotEncoder, StandardScaler\n",
    "from sklearn.model_selection import train_test_split"
   ]
  },
  {
   "cell_type": "markdown",
   "metadata": {},
   "source": [
    "### Importing dataset"
   ]
  },
  {
   "cell_type": "code",
   "execution_count": 2,
   "metadata": {},
   "outputs": [
    {
     "name": "stdout",
     "output_type": "stream",
     "text": [
      "[['France' 44.0 72000.0]\n",
      " ['Spain' 27.0 48000.0]\n",
      " ['Germany' 30.0 54000.0]\n",
      " ['Spain' 38.0 61000.0]\n",
      " ['Germany' 40.0 nan]\n",
      " ['France' 35.0 58000.0]\n",
      " ['Spain' nan 52000.0]\n",
      " ['France' 48.0 79000.0]\n",
      " ['Germany' 50.0 83000.0]\n",
      " ['France' 37.0 67000.0]]\n"
     ]
    }
   ],
   "source": [
    "dataset = pd.read_csv('MLDataSets/DataPreprocessing/Data.csv')\n",
    "X = dataset.iloc[:, :-1].values\n",
    "Y = dataset.iloc[:, -1:].values\n",
    "print(X)"
   ]
  },
  {
   "cell_type": "markdown",
   "metadata": {},
   "source": [
    "### Taking care of missing data"
   ]
  },
  {
   "cell_type": "code",
   "execution_count": 4,
   "metadata": {},
   "outputs": [
    {
     "name": "stdout",
     "output_type": "stream",
     "text": [
      "[['France' 44.0 72000.0]\n",
      " ['Spain' 27.0 48000.0]\n",
      " ['Germany' 30.0 54000.0]\n",
      " ['Spain' 38.0 61000.0]\n",
      " ['Germany' 40.0 63777.77777777778]\n",
      " ['France' 35.0 58000.0]\n",
      " ['Spain' 38.77777777777778 52000.0]\n",
      " ['France' 48.0 79000.0]\n",
      " ['Germany' 50.0 83000.0]\n",
      " ['France' 37.0 67000.0]]\n"
     ]
    },
    {
     "name": "stderr",
     "output_type": "stream",
     "text": [
      "/home/siva/anaconda3/envs/tok/lib/python3.7/site-packages/sklearn/utils/deprecation.py:58: DeprecationWarning: Class Imputer is deprecated; Imputer was deprecated in version 0.20 and will be removed in 0.22. Import impute.SimpleImputer from sklearn instead.\n",
      "  warnings.warn(msg, category=DeprecationWarning)\n"
     ]
    }
   ],
   "source": [
    "imputer = Imputer(missing_values = 'NaN' , strategy = 'mean' , axis = 0)\n",
    "# imputer parameters:\n",
    "# missing_values which default value is \"NaN\"\n",
    "# stategy default = \"mean\"  available = mean,  median,  mode\n",
    "# axis default = 0  which impute along columns.  axis = 1 which impute along row\n",
    "imputer = imputer.fit(X[: , 1:3])\n",
    "X[: , 1:3] = imputer.transform(X[: , 1:3])"
   ]
  },
  {
   "cell_type": "markdown",
   "metadata": {},
   "source": [
    "### Encoding Categorical data"
   ]
  },
  {
   "cell_type": "code",
<<<<<<< HEAD
   "execution_count": 1,
=======
   "execution_count": 8,
>>>>>>> 4d485d4af4b0b4b79909f2e5e2c10c647aa81aa0
   "metadata": {},
   "outputs": [],
   "source": [
    "# Categorical data means the data that can be classified.\n",
    "# Here the first column contains three countries which is categorical data.\n",
    "# Machine Learning works perfectly with number.  So we are classifing the datas as different numbers.  The function classifies as 0, 1, 2.\n",
    "# The last column also contains yes or no which can be classified.\n",
    "# LableEncoder classified data into numbers as 0, 1, 2\n",
    "# OneHotEncoder classified data into 0 and 1 with seperation of three columns.\n",
<<<<<<< HEAD
    "# The commented section of the program prints and explains them correctly.\n",
    "# Always omit one dummy variable to avoid dummy variable trap.  Here we won't use it but use this in data preprocessing in the models"
=======
    "# The commented section of the program prints and explains them correctly."
>>>>>>> 4d485d4af4b0b4b79909f2e5e2c10c647aa81aa0
   ]
  },
  {
   "cell_type": "code",
   "execution_count": 10,
   "metadata": {},
   "outputs": [
    {
     "name": "stdout",
     "output_type": "stream",
     "text": [
      "[[1.00000000e+00 0.00000000e+00 1.00000000e+00 0.00000000e+00\n",
      "  0.00000000e+00 4.40000000e+01 7.20000000e+04]\n",
      " [0.00000000e+00 1.00000000e+00 0.00000000e+00 0.00000000e+00\n",
      "  1.00000000e+00 2.70000000e+01 4.80000000e+04]\n",
      " [0.00000000e+00 1.00000000e+00 0.00000000e+00 1.00000000e+00\n",
      "  0.00000000e+00 3.00000000e+01 5.40000000e+04]\n",
      " [0.00000000e+00 1.00000000e+00 0.00000000e+00 0.00000000e+00\n",
      "  1.00000000e+00 3.80000000e+01 6.10000000e+04]\n",
      " [0.00000000e+00 1.00000000e+00 0.00000000e+00 1.00000000e+00\n",
      "  0.00000000e+00 4.00000000e+01 6.37777778e+04]\n",
      " [1.00000000e+00 0.00000000e+00 1.00000000e+00 0.00000000e+00\n",
      "  0.00000000e+00 3.50000000e+01 5.80000000e+04]\n",
      " [0.00000000e+00 1.00000000e+00 0.00000000e+00 0.00000000e+00\n",
      "  1.00000000e+00 3.87777778e+01 5.20000000e+04]\n",
      " [1.00000000e+00 0.00000000e+00 1.00000000e+00 0.00000000e+00\n",
      "  0.00000000e+00 4.80000000e+01 7.90000000e+04]\n",
      " [0.00000000e+00 1.00000000e+00 0.00000000e+00 1.00000000e+00\n",
      "  0.00000000e+00 5.00000000e+01 8.30000000e+04]\n",
      " [1.00000000e+00 0.00000000e+00 1.00000000e+00 0.00000000e+00\n",
      "  0.00000000e+00 3.70000000e+01 6.70000000e+04]]\n",
      "[[0.00000000e+00 1.00000000e+00 0.00000000e+00 1.00000000e+00\n",
      "  0.00000000e+00 0.00000000e+00 4.40000000e+01 7.20000000e+04]\n",
      " [1.00000000e+00 0.00000000e+00 1.00000000e+00 0.00000000e+00\n",
      "  0.00000000e+00 1.00000000e+00 2.70000000e+01 4.80000000e+04]\n",
      " [1.00000000e+00 0.00000000e+00 1.00000000e+00 0.00000000e+00\n",
      "  1.00000000e+00 0.00000000e+00 3.00000000e+01 5.40000000e+04]\n",
      " [1.00000000e+00 0.00000000e+00 1.00000000e+00 0.00000000e+00\n",
      "  0.00000000e+00 1.00000000e+00 3.80000000e+01 6.10000000e+04]\n",
      " [1.00000000e+00 0.00000000e+00 1.00000000e+00 0.00000000e+00\n",
      "  1.00000000e+00 0.00000000e+00 4.00000000e+01 6.37777778e+04]\n",
      " [0.00000000e+00 1.00000000e+00 0.00000000e+00 1.00000000e+00\n",
      "  0.00000000e+00 0.00000000e+00 3.50000000e+01 5.80000000e+04]\n",
      " [1.00000000e+00 0.00000000e+00 1.00000000e+00 0.00000000e+00\n",
      "  0.00000000e+00 1.00000000e+00 3.87777778e+01 5.20000000e+04]\n",
      " [0.00000000e+00 1.00000000e+00 0.00000000e+00 1.00000000e+00\n",
      "  0.00000000e+00 0.00000000e+00 4.80000000e+01 7.90000000e+04]\n",
      " [1.00000000e+00 0.00000000e+00 1.00000000e+00 0.00000000e+00\n",
      "  1.00000000e+00 0.00000000e+00 5.00000000e+01 8.30000000e+04]\n",
      " [0.00000000e+00 1.00000000e+00 0.00000000e+00 1.00000000e+00\n",
      "  0.00000000e+00 0.00000000e+00 3.70000000e+01 6.70000000e+04]]\n"
     ]
    },
    {
     "name": "stderr",
     "output_type": "stream",
     "text": [
      "/home/siva/anaconda3/envs/tok/lib/python3.7/site-packages/sklearn/preprocessing/_encoders.py:368: FutureWarning: The handling of integer data will change in version 0.22. Currently, the categories are determined based on the range [0, max(values)], while in the future they will be determined based on the unique values.\n",
      "If you want the future behaviour and silence this warning, you can specify \"categories='auto'\".\n",
      "In case you used a LabelEncoder before this OneHotEncoder to convert the categories to integers, then you can now use the OneHotEncoder directly.\n",
      "  warnings.warn(msg, FutureWarning)\n",
      "/home/siva/anaconda3/envs/tok/lib/python3.7/site-packages/sklearn/preprocessing/_encoders.py:390: DeprecationWarning: The 'categorical_features' keyword is deprecated in version 0.20 and will be removed in 0.22. You can use the ColumnTransformer instead.\n",
      "  \"use the ColumnTransformer instead.\", DeprecationWarning)\n"
     ]
    }
   ],
   "source": [
    "labelencoder_X = LabelEncoder()\n",
    "X[:, 0] = labelencoder_X.fit_transform(X[:, 0])\n",
    "print(X)\n",
    "onehotencoder = OneHotEncoder(categorical_features = [0])\n",
    "X = onehotencoder.fit_transform(X).toarray()\n",
    "print(X)\n",
    "labelencoder_Y = LabelEncoder()\n",
    "Y = labelencoder_Y.fit_transform(Y)"
   ]
  },
  {
   "cell_type": "markdown",
   "metadata": {},
   "source": [
    "### Splitting the dataset into testing set and training set"
   ]
  },
  {
   "cell_type": "code",
   "execution_count": 11,
   "metadata": {},
   "outputs": [
    {
     "name": "stdout",
     "output_type": "stream",
     "text": [
      "[[1.00000000e+00 0.00000000e+00 1.00000000e+00 0.00000000e+00\n",
      "  1.00000000e+00 0.00000000e+00 4.00000000e+01 6.37777778e+04]\n",
      " [0.00000000e+00 1.00000000e+00 0.00000000e+00 1.00000000e+00\n",
      "  0.00000000e+00 0.00000000e+00 3.70000000e+01 6.70000000e+04]\n",
      " [1.00000000e+00 0.00000000e+00 1.00000000e+00 0.00000000e+00\n",
      "  0.00000000e+00 1.00000000e+00 2.70000000e+01 4.80000000e+04]\n",
      " [1.00000000e+00 0.00000000e+00 1.00000000e+00 0.00000000e+00\n",
      "  0.00000000e+00 1.00000000e+00 3.87777778e+01 5.20000000e+04]\n",
      " [0.00000000e+00 1.00000000e+00 0.00000000e+00 1.00000000e+00\n",
      "  0.00000000e+00 0.00000000e+00 4.80000000e+01 7.90000000e+04]\n",
      " [1.00000000e+00 0.00000000e+00 1.00000000e+00 0.00000000e+00\n",
      "  0.00000000e+00 1.00000000e+00 3.80000000e+01 6.10000000e+04]\n",
      " [0.00000000e+00 1.00000000e+00 0.00000000e+00 1.00000000e+00\n",
      "  0.00000000e+00 0.00000000e+00 4.40000000e+01 7.20000000e+04]\n",
      " [0.00000000e+00 1.00000000e+00 0.00000000e+00 1.00000000e+00\n",
      "  0.00000000e+00 0.00000000e+00 3.50000000e+01 5.80000000e+04]] [[1.0e+00 0.0e+00 1.0e+00 0.0e+00 1.0e+00 0.0e+00 3.0e+01 5.4e+04]\n",
      " [1.0e+00 0.0e+00 1.0e+00 0.0e+00 1.0e+00 0.0e+00 5.0e+01 8.3e+04]] [1 1 1 0 1 0 0 1] [0 0]\n"
     ]
    }
   ],
   "source": [
    "X_train, X_test, Y_train, Y_test = train_test_split(X, Y, test_size = 0.2, random_state = 0)\n",
    "# parameters\n",
    "# array for test and train split\n",
    "# test_size specifies size of test data\n",
    "# train_size specifies size of train data\n",
    "# test_size + train_size = 1  So either one is enough to be specified\n",
    "# random_state random number generator for random sampling\n",
    "print(X_train, X_test, Y_train, Y_test)"
   ]
  },
  {
   "cell_type": "markdown",
   "metadata": {},
   "source": [
    "### Feature Scaling"
   ]
  },
  {
   "cell_type": "code",
   "execution_count": 17,
   "metadata": {},
   "outputs": [],
   "source": [
    "# Feature scaling is important because the number in the age column and in the salary column have far difference.\n",
    "# So feature scaling will scale the numbers to be within -1 and +1\n",
    "# We can use Standardisation or Normalisation for feature scaling.\n",
    "# Basically we use Standardisation method."
   ]
  },
  {
   "cell_type": "code",
   "execution_count": 12,
   "metadata": {},
   "outputs": [],
   "source": [
    "sc_X = StandardScaler()\n",
    "X_train = sc_X.fit_transform(X_train)\n",
    "X_test = sc_X.transform(X_test)"
   ]
  },
  {
   "cell_type": "code",
   "execution_count": null,
   "metadata": {},
   "outputs": [],
   "source": []
  }
 ],
 "metadata": {
  "kernelspec": {
   "display_name": "Python 3",
   "language": "python",
   "name": "python3"
  },
  "language_info": {
   "codemirror_mode": {
    "name": "ipython",
    "version": 3
   },
   "file_extension": ".py",
   "mimetype": "text/x-python",
   "name": "python",
   "nbconvert_exporter": "python",
   "pygments_lexer": "ipython3",
   "version": "3.7.1"
  }
 },
 "nbformat": 4,
 "nbformat_minor": 2
}
