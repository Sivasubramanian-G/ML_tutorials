{
 "cells": [
  {
   "cell_type": "markdown",
   "metadata": {},
   "source": [
    "# SVR "
   ]
  },
  {
   "cell_type": "markdown",
   "metadata": {},
   "source": [
    "### Importing the libraries"
   ]
  },
  {
   "cell_type": "code",
<<<<<<< HEAD
   "execution_count": null,
=======
   "execution_count": 2,
>>>>>>> 4d485d4af4b0b4b79909f2e5e2c10c647aa81aa0
   "metadata": {},
   "outputs": [],
   "source": [
    "import numpy as np\n",
    "import matplotlib.pyplot as plt\n",
    "import pandas as pd\n",
    "from sklearn.preprocessing import StandardScaler\n",
    "from sklearn.svm import SVR"
   ]
  },
  {
   "cell_type": "markdown",
   "metadata": {},
   "source": [
    "### Importing the dataset"
   ]
  },
  {
   "cell_type": "code",
<<<<<<< HEAD
   "execution_count": null,
=======
   "execution_count": 3,
>>>>>>> 4d485d4af4b0b4b79909f2e5e2c10c647aa81aa0
   "metadata": {},
   "outputs": [],
   "source": [
    "dataset = pd.read_csv('MLDataSets/SVR/Position_Salaries.csv')\n",
    "X = dataset.iloc[:, 1:2].values\n",
    "Y = dataset.iloc[:, 2].values"
   ]
  },
  {
   "cell_type": "markdown",
   "metadata": {},
   "source": [
    "### Feature Scaling"
   ]
  },
  {
   "cell_type": "code",
<<<<<<< HEAD
   "execution_count": null,
=======
   "execution_count": 4,
>>>>>>> 4d485d4af4b0b4b79909f2e5e2c10c647aa81aa0
   "metadata": {},
   "outputs": [],
   "source": [
    "# We need to feature scale the dataset because Linear Regression have in-built feature scaler but SVR does not have an in-built feature scaler."
   ]
  },
  {
   "cell_type": "code",
<<<<<<< HEAD
   "execution_count": null,
   "metadata": {},
   "outputs": [],
=======
   "execution_count": 5,
   "metadata": {},
   "outputs": [
    {
     "name": "stderr",
     "output_type": "stream",
     "text": [
      "/home/siva/anaconda3/envs/tok/lib/python3.7/site-packages/sklearn/utils/validation.py:595: DataConversionWarning: Data with input dtype int64 was converted to float64 by StandardScaler.\n",
      "  warnings.warn(msg, DataConversionWarning)\n",
      "/home/siva/anaconda3/envs/tok/lib/python3.7/site-packages/sklearn/utils/validation.py:595: DataConversionWarning: Data with input dtype int64 was converted to float64 by StandardScaler.\n",
      "  warnings.warn(msg, DataConversionWarning)\n"
     ]
    },
    {
     "ename": "ValueError",
     "evalue": "Expected 2D array, got 1D array instead:\narray=[  45000.   50000.   60000.   80000.  110000.  150000.  200000.  300000.\n  500000. 1000000.].\nReshape your data either using array.reshape(-1, 1) if your data has a single feature or array.reshape(1, -1) if it contains a single sample.",
     "output_type": "error",
     "traceback": [
      "\u001b[0;31m---------------------------------------------------------------------------\u001b[0m",
      "\u001b[0;31mValueError\u001b[0m                                Traceback (most recent call last)",
      "\u001b[0;32m<ipython-input-5-97325291413c>\u001b[0m in \u001b[0;36m<module>\u001b[0;34m\u001b[0m\n\u001b[1;32m      2\u001b[0m \u001b[0msc_Y\u001b[0m \u001b[0;34m=\u001b[0m \u001b[0mStandardScaler\u001b[0m\u001b[0;34m(\u001b[0m\u001b[0;34m)\u001b[0m\u001b[0;34m\u001b[0m\u001b[0;34m\u001b[0m\u001b[0m\n\u001b[1;32m      3\u001b[0m \u001b[0mX\u001b[0m \u001b[0;34m=\u001b[0m \u001b[0msc_X\u001b[0m\u001b[0;34m.\u001b[0m\u001b[0mfit_transform\u001b[0m\u001b[0;34m(\u001b[0m\u001b[0mX\u001b[0m\u001b[0;34m)\u001b[0m\u001b[0;34m\u001b[0m\u001b[0;34m\u001b[0m\u001b[0m\n\u001b[0;32m----> 4\u001b[0;31m \u001b[0mY\u001b[0m \u001b[0;34m=\u001b[0m \u001b[0msc_Y\u001b[0m\u001b[0;34m.\u001b[0m\u001b[0mfit_transform\u001b[0m\u001b[0;34m(\u001b[0m\u001b[0mY\u001b[0m\u001b[0;34m)\u001b[0m\u001b[0;34m\u001b[0m\u001b[0;34m\u001b[0m\u001b[0m\n\u001b[0m",
      "\u001b[0;32m~/anaconda3/envs/tok/lib/python3.7/site-packages/sklearn/base.py\u001b[0m in \u001b[0;36mfit_transform\u001b[0;34m(self, X, y, **fit_params)\u001b[0m\n\u001b[1;32m    460\u001b[0m         \u001b[0;32mif\u001b[0m \u001b[0my\u001b[0m \u001b[0;32mis\u001b[0m \u001b[0;32mNone\u001b[0m\u001b[0;34m:\u001b[0m\u001b[0;34m\u001b[0m\u001b[0;34m\u001b[0m\u001b[0m\n\u001b[1;32m    461\u001b[0m             \u001b[0;31m# fit method of arity 1 (unsupervised transformation)\u001b[0m\u001b[0;34m\u001b[0m\u001b[0;34m\u001b[0m\u001b[0;34m\u001b[0m\u001b[0m\n\u001b[0;32m--> 462\u001b[0;31m             \u001b[0;32mreturn\u001b[0m \u001b[0mself\u001b[0m\u001b[0;34m.\u001b[0m\u001b[0mfit\u001b[0m\u001b[0;34m(\u001b[0m\u001b[0mX\u001b[0m\u001b[0;34m,\u001b[0m \u001b[0;34m**\u001b[0m\u001b[0mfit_params\u001b[0m\u001b[0;34m)\u001b[0m\u001b[0;34m.\u001b[0m\u001b[0mtransform\u001b[0m\u001b[0;34m(\u001b[0m\u001b[0mX\u001b[0m\u001b[0;34m)\u001b[0m\u001b[0;34m\u001b[0m\u001b[0;34m\u001b[0m\u001b[0m\n\u001b[0m\u001b[1;32m    463\u001b[0m         \u001b[0;32melse\u001b[0m\u001b[0;34m:\u001b[0m\u001b[0;34m\u001b[0m\u001b[0;34m\u001b[0m\u001b[0m\n\u001b[1;32m    464\u001b[0m             \u001b[0;31m# fit method of arity 2 (supervised transformation)\u001b[0m\u001b[0;34m\u001b[0m\u001b[0;34m\u001b[0m\u001b[0;34m\u001b[0m\u001b[0m\n",
      "\u001b[0;32m~/anaconda3/envs/tok/lib/python3.7/site-packages/sklearn/preprocessing/data.py\u001b[0m in \u001b[0;36mfit\u001b[0;34m(self, X, y)\u001b[0m\n\u001b[1;32m    623\u001b[0m         \u001b[0;31m# Reset internal state before fitting\u001b[0m\u001b[0;34m\u001b[0m\u001b[0;34m\u001b[0m\u001b[0;34m\u001b[0m\u001b[0m\n\u001b[1;32m    624\u001b[0m         \u001b[0mself\u001b[0m\u001b[0;34m.\u001b[0m\u001b[0m_reset\u001b[0m\u001b[0;34m(\u001b[0m\u001b[0;34m)\u001b[0m\u001b[0;34m\u001b[0m\u001b[0;34m\u001b[0m\u001b[0m\n\u001b[0;32m--> 625\u001b[0;31m         \u001b[0;32mreturn\u001b[0m \u001b[0mself\u001b[0m\u001b[0;34m.\u001b[0m\u001b[0mpartial_fit\u001b[0m\u001b[0;34m(\u001b[0m\u001b[0mX\u001b[0m\u001b[0;34m,\u001b[0m \u001b[0my\u001b[0m\u001b[0;34m)\u001b[0m\u001b[0;34m\u001b[0m\u001b[0;34m\u001b[0m\u001b[0m\n\u001b[0m\u001b[1;32m    626\u001b[0m \u001b[0;34m\u001b[0m\u001b[0m\n\u001b[1;32m    627\u001b[0m     \u001b[0;32mdef\u001b[0m \u001b[0mpartial_fit\u001b[0m\u001b[0;34m(\u001b[0m\u001b[0mself\u001b[0m\u001b[0;34m,\u001b[0m \u001b[0mX\u001b[0m\u001b[0;34m,\u001b[0m \u001b[0my\u001b[0m\u001b[0;34m=\u001b[0m\u001b[0;32mNone\u001b[0m\u001b[0;34m)\u001b[0m\u001b[0;34m:\u001b[0m\u001b[0;34m\u001b[0m\u001b[0;34m\u001b[0m\u001b[0m\n",
      "\u001b[0;32m~/anaconda3/envs/tok/lib/python3.7/site-packages/sklearn/preprocessing/data.py\u001b[0m in \u001b[0;36mpartial_fit\u001b[0;34m(self, X, y)\u001b[0m\n\u001b[1;32m    647\u001b[0m         X = check_array(X, accept_sparse=('csr', 'csc'), copy=self.copy,\n\u001b[1;32m    648\u001b[0m                         \u001b[0mwarn_on_dtype\u001b[0m\u001b[0;34m=\u001b[0m\u001b[0;32mTrue\u001b[0m\u001b[0;34m,\u001b[0m \u001b[0mestimator\u001b[0m\u001b[0;34m=\u001b[0m\u001b[0mself\u001b[0m\u001b[0;34m,\u001b[0m \u001b[0mdtype\u001b[0m\u001b[0;34m=\u001b[0m\u001b[0mFLOAT_DTYPES\u001b[0m\u001b[0;34m,\u001b[0m\u001b[0;34m\u001b[0m\u001b[0;34m\u001b[0m\u001b[0m\n\u001b[0;32m--> 649\u001b[0;31m                         force_all_finite='allow-nan')\n\u001b[0m\u001b[1;32m    650\u001b[0m \u001b[0;34m\u001b[0m\u001b[0m\n\u001b[1;32m    651\u001b[0m         \u001b[0;31m# Even in the case of `with_mean=False`, we update the mean anyway\u001b[0m\u001b[0;34m\u001b[0m\u001b[0;34m\u001b[0m\u001b[0;34m\u001b[0m\u001b[0m\n",
      "\u001b[0;32m~/anaconda3/envs/tok/lib/python3.7/site-packages/sklearn/utils/validation.py\u001b[0m in \u001b[0;36mcheck_array\u001b[0;34m(array, accept_sparse, accept_large_sparse, dtype, order, copy, force_all_finite, ensure_2d, allow_nd, ensure_min_samples, ensure_min_features, warn_on_dtype, estimator)\u001b[0m\n\u001b[1;32m    550\u001b[0m                     \u001b[0;34m\"Reshape your data either using array.reshape(-1, 1) if \"\u001b[0m\u001b[0;34m\u001b[0m\u001b[0;34m\u001b[0m\u001b[0m\n\u001b[1;32m    551\u001b[0m                     \u001b[0;34m\"your data has a single feature or array.reshape(1, -1) \"\u001b[0m\u001b[0;34m\u001b[0m\u001b[0;34m\u001b[0m\u001b[0m\n\u001b[0;32m--> 552\u001b[0;31m                     \"if it contains a single sample.\".format(array))\n\u001b[0m\u001b[1;32m    553\u001b[0m \u001b[0;34m\u001b[0m\u001b[0m\n\u001b[1;32m    554\u001b[0m         \u001b[0;31m# in the future np.flexible dtypes will be handled like object dtypes\u001b[0m\u001b[0;34m\u001b[0m\u001b[0;34m\u001b[0m\u001b[0;34m\u001b[0m\u001b[0m\n",
      "\u001b[0;31mValueError\u001b[0m: Expected 2D array, got 1D array instead:\narray=[  45000.   50000.   60000.   80000.  110000.  150000.  200000.  300000.\n  500000. 1000000.].\nReshape your data either using array.reshape(-1, 1) if your data has a single feature or array.reshape(1, -1) if it contains a single sample."
     ]
    }
   ],
>>>>>>> 4d485d4af4b0b4b79909f2e5e2c10c647aa81aa0
   "source": [
    "sc_X = StandardScaler()\n",
    "sc_Y = StandardScaler()\n",
    "X = sc_X.fit_transform(X)\n",
    "Y = sc_Y.fit_transform(Y)"
   ]
  },
  {
   "cell_type": "markdown",
   "metadata": {},
   "source": [
    "### Fitting SVR to the dataset"
   ]
  },
  {
   "cell_type": "code",
<<<<<<< HEAD
   "execution_count": null,
   "metadata": {},
   "outputs": [],
=======
   "execution_count": 6,
   "metadata": {},
   "outputs": [
    {
     "data": {
      "text/plain": [
       "SVR(C=1.0, cache_size=200, coef0=0.0, degree=3, epsilon=0.1,\n",
       "  gamma='auto_deprecated', kernel='rbf', max_iter=-1, shrinking=True,\n",
       "  tol=0.001, verbose=False)"
      ]
     },
     "execution_count": 6,
     "metadata": {},
     "output_type": "execute_result"
    }
   ],
>>>>>>> 4d485d4af4b0b4b79909f2e5e2c10c647aa81aa0
   "source": [
    "regressor = SVR(kernel = 'rbf')\n",
    "regressor.fit(X, Y)"
   ]
  },
  {
   "cell_type": "markdown",
   "metadata": {},
   "source": [
    "### Predicting a new result"
   ]
  },
  {
   "cell_type": "code",
<<<<<<< HEAD
   "execution_count": null,
   "metadata": {},
   "outputs": [],
   "source": [
    "# Here we are using arrays to predict so we are transforming 6.5 value into a 2D array.\n",
    "# Then we are feature scale 6.5 because we are feature scaled other values with the help of x scaled object\n",
    "# Then we are predicting the value.  But the predicted valued will be feature scaled.\n",
    "# So we are inverse transform it to get the original value with the help of y scaled object."
   ]
  },
  {
   "cell_type": "code",
   "execution_count": null,
   "metadata": {},
   "outputs": [],
=======
   "execution_count": 7,
   "metadata": {},
   "outputs": [
    {
     "ename": "NotFittedError",
     "evalue": "This StandardScaler instance is not fitted yet. Call 'fit' with appropriate arguments before using this method.",
     "output_type": "error",
     "traceback": [
      "\u001b[0;31m---------------------------------------------------------------------------\u001b[0m",
      "\u001b[0;31mNotFittedError\u001b[0m                            Traceback (most recent call last)",
      "\u001b[0;32m<ipython-input-7-6735c92aacd4>\u001b[0m in \u001b[0;36m<module>\u001b[0;34m\u001b[0m\n\u001b[0;32m----> 1\u001b[0;31m \u001b[0mY_pred\u001b[0m \u001b[0;34m=\u001b[0m \u001b[0msc_Y\u001b[0m\u001b[0;34m.\u001b[0m\u001b[0minverse_transform\u001b[0m\u001b[0;34m(\u001b[0m\u001b[0mregressor\u001b[0m\u001b[0;34m.\u001b[0m\u001b[0mpredict\u001b[0m\u001b[0;34m(\u001b[0m\u001b[0msc_X\u001b[0m\u001b[0;34m.\u001b[0m\u001b[0mtransform\u001b[0m\u001b[0;34m(\u001b[0m\u001b[0mnp\u001b[0m\u001b[0;34m.\u001b[0m\u001b[0marray\u001b[0m\u001b[0;34m(\u001b[0m\u001b[0;34m[\u001b[0m\u001b[0;34m[\u001b[0m\u001b[0;36m6.5\u001b[0m\u001b[0;34m]\u001b[0m\u001b[0;34m]\u001b[0m\u001b[0;34m)\u001b[0m\u001b[0;34m)\u001b[0m\u001b[0;34m)\u001b[0m\u001b[0;34m)\u001b[0m\u001b[0;34m\u001b[0m\u001b[0;34m\u001b[0m\u001b[0m\n\u001b[0m",
      "\u001b[0;32m~/anaconda3/envs/tok/lib/python3.7/site-packages/sklearn/preprocessing/data.py\u001b[0m in \u001b[0;36minverse_transform\u001b[0;34m(self, X, copy)\u001b[0m\n\u001b[1;32m    781\u001b[0m             \u001b[0mTransformed\u001b[0m \u001b[0marray\u001b[0m\u001b[0;34m.\u001b[0m\u001b[0;34m\u001b[0m\u001b[0;34m\u001b[0m\u001b[0m\n\u001b[1;32m    782\u001b[0m         \"\"\"\n\u001b[0;32m--> 783\u001b[0;31m         \u001b[0mcheck_is_fitted\u001b[0m\u001b[0;34m(\u001b[0m\u001b[0mself\u001b[0m\u001b[0;34m,\u001b[0m \u001b[0;34m'scale_'\u001b[0m\u001b[0;34m)\u001b[0m\u001b[0;34m\u001b[0m\u001b[0;34m\u001b[0m\u001b[0m\n\u001b[0m\u001b[1;32m    784\u001b[0m \u001b[0;34m\u001b[0m\u001b[0m\n\u001b[1;32m    785\u001b[0m         \u001b[0mcopy\u001b[0m \u001b[0;34m=\u001b[0m \u001b[0mcopy\u001b[0m \u001b[0;32mif\u001b[0m \u001b[0mcopy\u001b[0m \u001b[0;32mis\u001b[0m \u001b[0;32mnot\u001b[0m \u001b[0;32mNone\u001b[0m \u001b[0;32melse\u001b[0m \u001b[0mself\u001b[0m\u001b[0;34m.\u001b[0m\u001b[0mcopy\u001b[0m\u001b[0;34m\u001b[0m\u001b[0;34m\u001b[0m\u001b[0m\n",
      "\u001b[0;32m~/anaconda3/envs/tok/lib/python3.7/site-packages/sklearn/utils/validation.py\u001b[0m in \u001b[0;36mcheck_is_fitted\u001b[0;34m(estimator, attributes, msg, all_or_any)\u001b[0m\n\u001b[1;32m    949\u001b[0m \u001b[0;34m\u001b[0m\u001b[0m\n\u001b[1;32m    950\u001b[0m     \u001b[0;32mif\u001b[0m \u001b[0;32mnot\u001b[0m \u001b[0mall_or_any\u001b[0m\u001b[0;34m(\u001b[0m\u001b[0;34m[\u001b[0m\u001b[0mhasattr\u001b[0m\u001b[0;34m(\u001b[0m\u001b[0mestimator\u001b[0m\u001b[0;34m,\u001b[0m \u001b[0mattr\u001b[0m\u001b[0;34m)\u001b[0m \u001b[0;32mfor\u001b[0m \u001b[0mattr\u001b[0m \u001b[0;32min\u001b[0m \u001b[0mattributes\u001b[0m\u001b[0;34m]\u001b[0m\u001b[0;34m)\u001b[0m\u001b[0;34m:\u001b[0m\u001b[0;34m\u001b[0m\u001b[0;34m\u001b[0m\u001b[0m\n\u001b[0;32m--> 951\u001b[0;31m         \u001b[0;32mraise\u001b[0m \u001b[0mNotFittedError\u001b[0m\u001b[0;34m(\u001b[0m\u001b[0mmsg\u001b[0m \u001b[0;34m%\u001b[0m \u001b[0;34m{\u001b[0m\u001b[0;34m'name'\u001b[0m\u001b[0;34m:\u001b[0m \u001b[0mtype\u001b[0m\u001b[0;34m(\u001b[0m\u001b[0mestimator\u001b[0m\u001b[0;34m)\u001b[0m\u001b[0;34m.\u001b[0m\u001b[0m__name__\u001b[0m\u001b[0;34m}\u001b[0m\u001b[0;34m)\u001b[0m\u001b[0;34m\u001b[0m\u001b[0;34m\u001b[0m\u001b[0m\n\u001b[0m\u001b[1;32m    952\u001b[0m \u001b[0;34m\u001b[0m\u001b[0m\n\u001b[1;32m    953\u001b[0m \u001b[0;34m\u001b[0m\u001b[0m\n",
      "\u001b[0;31mNotFittedError\u001b[0m: This StandardScaler instance is not fitted yet. Call 'fit' with appropriate arguments before using this method."
     ]
    }
   ],
>>>>>>> 4d485d4af4b0b4b79909f2e5e2c10c647aa81aa0
   "source": [
    "Y_pred = sc_Y.inverse_transform(regressor.predict(sc_X.transform(np.array([[6.5]]))))"
   ]
  },
  {
   "cell_type": "markdown",
   "metadata": {},
   "source": [
    "### Visualising the SVR results"
   ]
  },
  {
   "cell_type": "code",
<<<<<<< HEAD
   "execution_count": null,
   "metadata": {},
   "outputs": [],
=======
   "execution_count": 8,
   "metadata": {},
   "outputs": [
    {
     "data": {
      "image/png": "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\n",
      "text/plain": [
       "<Figure size 432x288 with 1 Axes>"
      ]
     },
     "metadata": {
      "needs_background": "light"
     },
     "output_type": "display_data"
    }
   ],
>>>>>>> 4d485d4af4b0b4b79909f2e5e2c10c647aa81aa0
   "source": [
    "plt.scatter(X, Y, color = 'red')\n",
    "plt.plot(X, regressor.predict(X), color = 'blue')\n",
    "plt.title('SVR')\n",
    "plt.xlabel('Position level')\n",
    "plt.ylabel('Salary')\n",
    "plt.show()"
   ]
  },
  {
   "cell_type": "markdown",
   "metadata": {},
   "source": [
    "### Visualising with better curve"
   ]
  },
  {
   "cell_type": "code",
   "execution_count": null,
   "metadata": {},
   "outputs": [],
   "source": [
    "X_grid = np.arange(min(X), max(X), 0.1)\n",
    "X_grid = X_grid.reshape((len(X_grid), 1))\n",
    "plt.scatter(X, Y, color = 'red')\n",
    "plt.plot(X_grid, regressor.predict(X_grid), color = 'blue')\n",
    "plt.title('SVR curve')\n",
    "plt.xlabel('Position level')\n",
    "plt.ylabel('Salary')\n",
    "plt.show()"
   ]
  }
 ],
 "metadata": {
  "kernelspec": {
   "display_name": "Python 3",
   "language": "python",
   "name": "python3"
  },
  "language_info": {
   "codemirror_mode": {
    "name": "ipython",
    "version": 3
   },
   "file_extension": ".py",
   "mimetype": "text/x-python",
   "name": "python",
   "nbconvert_exporter": "python",
   "pygments_lexer": "ipython3",
   "version": "3.7.1"
  },
  "varInspector": {
   "cols": {
    "lenName": 16,
    "lenType": 16,
    "lenVar": 40
   },
   "kernels_config": {
    "python": {
     "delete_cmd_postfix": "",
     "delete_cmd_prefix": "del ",
     "library": "var_list.py",
     "varRefreshCmd": "print(var_dic_list())"
    },
    "r": {
     "delete_cmd_postfix": ") ",
     "delete_cmd_prefix": "rm(",
     "library": "var_list.r",
     "varRefreshCmd": "cat(var_dic_list()) "
    }
   },
   "types_to_exclude": [
    "module",
    "function",
    "builtin_function_or_method",
    "instance",
    "_Feature"
   ],
   "window_display": false
  }
 },
 "nbformat": 4,
 "nbformat_minor": 2
}
